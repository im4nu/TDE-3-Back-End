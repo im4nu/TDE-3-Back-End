{
 "cells": [
  {
   "cell_type": "markdown",
   "id": "4363c41b",
   "metadata": {},
   "source": [
    "# Configuração do Servidor PHP e MySQL\n",
    "Este notebook orienta como configurar um servidor PHP e MySQL para que o front-end e dispositivos móveis possam consumir os serviços do banco de dados."
   ]
  },
  {
   "cell_type": "code",
   "execution_count": null,
   "id": "9af4615a",
   "metadata": {
    "vscode": {
     "languageId": "bash"
    }
   },
   "outputs": [],
   "source": [
    "# Instalar o servidor Apache e PHP no Linux\n",
    "sudo apt update\n",
    "sudo apt install apache2 php libapache2-mod-php php-mysql -y"
   ]
  },
  {
   "cell_type": "markdown",
   "id": "e2188915",
   "metadata": {},
   "source": [
    "## Configurar o MySQL para Conexões Remotas\n",
    "Edite o arquivo de configuração do MySQL para permitir conexões remotas."
   ]
  },
  {
   "cell_type": "code",
   "execution_count": null,
   "id": "18edd279",
   "metadata": {
    "vscode": {
     "languageId": "bash"
    }
   },
   "outputs": [],
   "source": [
    "sudo nano /etc/mysql/mysql.conf.d/mysqld.cnf\n",
    "# Altere a linha bind-address para 0.0.0.0\n",
    "bind-address = 0.0.0.0"
   ]
  },
  {
   "cell_type": "code",
   "execution_count": null,
   "id": "9f205ec7",
   "metadata": {
    "vscode": {
     "languageId": "bash"
    }
   },
   "outputs": [],
   "source": [
    "# Reinicie o MySQL\n",
    "sudo systemctl restart mysql"
   ]
  },
  {
   "cell_type": "markdown",
   "id": "9bb23fb6",
   "metadata": {},
   "source": [
    "## Conceder Permissões ao Usuário do Banco\n",
    "Conceda permissões ao usuário para acessar remotamente."
   ]
  },
  {
   "cell_type": "code",
   "execution_count": null,
   "id": "01c4c680",
   "metadata": {
    "vscode": {
     "languageId": "sql"
    }
   },
   "outputs": [],
   "source": [
    "GRANT ALL PRIVILEGES ON *.* TO 'root'@'%' IDENTIFIED BY 'nova_senha';\n",
    "FLUSH PRIVILEGES;"
   ]
  },
  {
   "cell_type": "markdown",
   "id": "39a8cb9f",
   "metadata": {},
   "source": [
    "## Testar o Servidor\n",
    "Certifique-se de que o servidor está acessível a partir de outros dispositivos na rede."
   ]
  }
 ],
 "metadata": {
  "language_info": {
   "name": "python"
  }
 },
 "nbformat": 4,
 "nbformat_minor": 5
}
